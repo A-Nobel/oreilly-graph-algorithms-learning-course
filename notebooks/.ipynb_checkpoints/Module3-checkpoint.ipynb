{
 "cells": [
  {
   "cell_type": "markdown",
   "metadata": {},
   "source": [
    "# Module 3: Centrality Algorithms"
   ]
  },
  {
   "cell_type": "code",
   "execution_count": null,
   "metadata": {},
   "outputs": [],
   "source": [
    "from pyspark.sql.types import *\n",
    "from graphframes import *\n",
    "from neo4j import GraphDatabase\n",
    "import pandas as pd"
   ]
  },
  {
   "cell_type": "markdown",
   "metadata": {},
   "source": [
    "## Connect to Spark and Neo4j\n",
    "\n",
    "Let's create connections to Spark and Neo4j. The following code will create a SparkContext that we'll use to connect to Spark:"
   ]
  },
  {
   "cell_type": "code",
   "execution_count": null,
   "metadata": {},
   "outputs": [],
   "source": [
    "from pyspark.context import SparkContext\n",
    "from pyspark.sql.session import SparkSession\n",
    "\n",
    "sc = SparkContext.getOrCreate('local')\n",
    "spark = SparkSession(sc)"
   ]
  },
  {
   "cell_type": "code",
   "execution_count": 15,
   "metadata": {},
   "outputs": [],
   "source": [
    "user = \"neo4j\"\n",
    "password = \"neo\"\n",
    "driver = GraphDatabase.driver(\"bolt://localhost\", auth=(user, password))"
   ]
  },
  {
   "cell_type": "markdown",
   "metadata": {},
   "source": [
    "## The Transport Graph\n",
    "\n",
    "### Importing the Data into Apache Spark"
   ]
  },
  {
   "cell_type": "code",
   "execution_count": null,
   "metadata": {},
   "outputs": [],
   "source": [
    "def create_social_graph():\n",
    "    v = spark.read.csv(\"../data/social-nodes.csv\", header=True)\n",
    "    e = spark.read.csv(\"../data/social-relationships.csv\", header=True)\n",
    "    return GraphFrame(v, e)"
   ]
  },
  {
   "cell_type": "code",
   "execution_count": null,
   "metadata": {},
   "outputs": [],
   "source": [
    "g = create_social_graph()"
   ]
  },
  {
   "cell_type": "markdown",
   "metadata": {},
   "source": [
    "### Importing the Data into Neo4j"
   ]
  },
  {
   "cell_type": "code",
   "execution_count": null,
   "metadata": {},
   "outputs": [],
   "source": [
    "with driver.session() as session:\n",
    "    session.run(\"\"\"\n",
    "    WITH \"https://github.com/neo4j-graph-analytics/book/raw/master/data/social-nodes.csv\"\n",
    "    AS uri\n",
    "    LOAD CSV WITH HEADERS FROM uri AS row\n",
    "    MERGE (:User {id: row.id})\n",
    "    \"\"\")\n",
    "    \n",
    "    session.run(\"\"\"\n",
    "    WITH \"https://github.com/neo4j-graph-analytics/book/raw/master/data/social-relationships.csv\"\n",
    "    AS uri\n",
    "    LOAD CSV WITH HEADERS FROM uri AS row\n",
    "    MATCH (source:User {id: row.src})\n",
    "    MATCH (destination:User {id: row.dst})\n",
    "    MERGE (source)-[:FOLLOWS]->(destination)\n",
    "    \"\"\")"
   ]
  },
  {
   "cell_type": "markdown",
   "metadata": {},
   "source": [
    "## Degree Centrality\n",
    "\n",
    "Degree Centrality is the simplest of the centrality algorithms. It counts the number of incoming and outgoing relationships from a node, and is used to find popular nodes in a graph."
   ]
  },
  {
   "cell_type": "code",
   "execution_count": null,
   "metadata": {},
   "outputs": [],
   "source": [
    "total_degree = g.degrees\n",
    "in_degree = g.inDegrees\n",
    "out_degree = g.outDegrees\n",
    "(total_degree.join(in_degree, \"id\", how=\"left\")\n",
    " .join(out_degree, \"id\", how=\"left\")\n",
    " .fillna(0)\n",
    " .sort(\"inDegree\", ascending=False)\n",
    " .show())"
   ]
  },
  {
   "cell_type": "markdown",
   "metadata": {},
   "source": [
    "Doug is the most popular user in our Twitter graph, with five followers (in-links). All other users in that part of the graph follow him and he only follows one person back. In the real Twitter network, celebrities have high follower counts but tend to follow few people. We could therefore consider Doug a celebrity!"
   ]
  },
  {
   "cell_type": "code",
   "execution_count": null,
   "metadata": {},
   "outputs": [],
   "source": [
    "from_expr = \"id='Den Haag'\"\n",
    "to_expr = \"population > 100000 and population < 300000 and id <> 'Den Haag'\"\n",
    "result = g.bfs(from_expr, to_expr)"
   ]
  },
  {
   "cell_type": "code",
   "execution_count": null,
   "metadata": {},
   "outputs": [],
   "source": [
    "columns = [column for column in result.columns if not column.startswith(\"e\")]\n",
    "result.select(columns).show()"
   ]
  },
  {
   "cell_type": "markdown",
   "metadata": {},
   "source": [
    "## Closeness Centrality\n",
    "\n",
    "Closeness Centrality is a way of detecting nodes that are able to spread information efficiently through a subgraph."
   ]
  },
  {
   "cell_type": "code",
   "execution_count": 16,
   "metadata": {},
   "outputs": [
    {
     "data": {
      "text/html": [
       "<div>\n",
       "<style scoped>\n",
       "    .dataframe tbody tr th:only-of-type {\n",
       "        vertical-align: middle;\n",
       "    }\n",
       "\n",
       "    .dataframe tbody tr th {\n",
       "        vertical-align: top;\n",
       "    }\n",
       "\n",
       "    .dataframe thead th {\n",
       "        text-align: right;\n",
       "    }\n",
       "</style>\n",
       "<table border=\"1\" class=\"dataframe\">\n",
       "  <thead>\n",
       "    <tr style=\"text-align: right;\">\n",
       "      <th></th>\n",
       "      <th>algo.getNodeById(nodeId).id</th>\n",
       "      <th>centrality</th>\n",
       "    </tr>\n",
       "  </thead>\n",
       "  <tbody>\n",
       "    <tr>\n",
       "      <th>0</th>\n",
       "      <td>Alice</td>\n",
       "      <td>1.000000</td>\n",
       "    </tr>\n",
       "    <tr>\n",
       "      <th>1</th>\n",
       "      <td>Doug</td>\n",
       "      <td>1.000000</td>\n",
       "    </tr>\n",
       "    <tr>\n",
       "      <th>2</th>\n",
       "      <td>David</td>\n",
       "      <td>1.000000</td>\n",
       "    </tr>\n",
       "    <tr>\n",
       "      <th>3</th>\n",
       "      <td>Bridget</td>\n",
       "      <td>0.714286</td>\n",
       "    </tr>\n",
       "    <tr>\n",
       "      <th>4</th>\n",
       "      <td>Michael</td>\n",
       "      <td>0.714286</td>\n",
       "    </tr>\n",
       "    <tr>\n",
       "      <th>5</th>\n",
       "      <td>Amy</td>\n",
       "      <td>0.666667</td>\n",
       "    </tr>\n",
       "    <tr>\n",
       "      <th>6</th>\n",
       "      <td>James</td>\n",
       "      <td>0.666667</td>\n",
       "    </tr>\n",
       "    <tr>\n",
       "      <th>7</th>\n",
       "      <td>Charles</td>\n",
       "      <td>0.625000</td>\n",
       "    </tr>\n",
       "    <tr>\n",
       "      <th>8</th>\n",
       "      <td>Mark</td>\n",
       "      <td>0.625000</td>\n",
       "    </tr>\n",
       "  </tbody>\n",
       "</table>\n",
       "</div>"
      ],
      "text/plain": [
       "  algo.getNodeById(nodeId).id  centrality\n",
       "0                       Alice    1.000000\n",
       "1                        Doug    1.000000\n",
       "2                       David    1.000000\n",
       "3                     Bridget    0.714286\n",
       "4                     Michael    0.714286\n",
       "5                         Amy    0.666667\n",
       "6                       James    0.666667\n",
       "7                     Charles    0.625000\n",
       "8                        Mark    0.625000"
      ]
     },
     "metadata": {},
     "output_type": "display_data"
    }
   ],
   "source": [
    "query = \"\"\"\n",
    "CALL algo.closeness.stream(\"User\", \"FOLLOWS\")\n",
    "YIELD nodeId, centrality\n",
    "RETURN algo.getNodeById(nodeId).id, centrality\n",
    "ORDER BY centrality DESC\n",
    "\"\"\"\n",
    "\n",
    "with driver.session() as session:\n",
    "    rows = session.run(query)\n",
    "    df = pd.DataFrame([dict(record) for record in rows])\n",
    "\n",
    "display(df)"
   ]
  },
  {
   "cell_type": "markdown",
   "metadata": {},
   "source": [
    "Ideally we’d like to get an indication of closeness across the whole graph, and in the next two sections we’ll learn about a few variations of the Closeness Centrality algorithm that do this.\n",
    "\n",
    "Stanley Wasserman and Katherine Faust came up with an improved formula for calculating closeness for graphs with multiple subgraphs without connections between those groups."
   ]
  },
  {
   "cell_type": "code",
   "execution_count": 17,
   "metadata": {},
   "outputs": [
    {
     "data": {
      "text/html": [
       "<div>\n",
       "<style scoped>\n",
       "    .dataframe tbody tr th:only-of-type {\n",
       "        vertical-align: middle;\n",
       "    }\n",
       "\n",
       "    .dataframe tbody tr th {\n",
       "        vertical-align: top;\n",
       "    }\n",
       "\n",
       "    .dataframe thead th {\n",
       "        text-align: right;\n",
       "    }\n",
       "</style>\n",
       "<table border=\"1\" class=\"dataframe\">\n",
       "  <thead>\n",
       "    <tr style=\"text-align: right;\">\n",
       "      <th></th>\n",
       "      <th>centrality</th>\n",
       "      <th>user</th>\n",
       "    </tr>\n",
       "  </thead>\n",
       "  <tbody>\n",
       "    <tr>\n",
       "      <th>0</th>\n",
       "      <td>0.500000</td>\n",
       "      <td>Alice</td>\n",
       "    </tr>\n",
       "    <tr>\n",
       "      <th>1</th>\n",
       "      <td>0.500000</td>\n",
       "      <td>Doug</td>\n",
       "    </tr>\n",
       "    <tr>\n",
       "      <th>2</th>\n",
       "      <td>0.357143</td>\n",
       "      <td>Bridget</td>\n",
       "    </tr>\n",
       "    <tr>\n",
       "      <th>3</th>\n",
       "      <td>0.357143</td>\n",
       "      <td>Michael</td>\n",
       "    </tr>\n",
       "    <tr>\n",
       "      <th>4</th>\n",
       "      <td>0.312500</td>\n",
       "      <td>Charles</td>\n",
       "    </tr>\n",
       "    <tr>\n",
       "      <th>5</th>\n",
       "      <td>0.312500</td>\n",
       "      <td>Mark</td>\n",
       "    </tr>\n",
       "    <tr>\n",
       "      <th>6</th>\n",
       "      <td>0.125000</td>\n",
       "      <td>David</td>\n",
       "    </tr>\n",
       "    <tr>\n",
       "      <th>7</th>\n",
       "      <td>0.083333</td>\n",
       "      <td>Amy</td>\n",
       "    </tr>\n",
       "    <tr>\n",
       "      <th>8</th>\n",
       "      <td>0.083333</td>\n",
       "      <td>James</td>\n",
       "    </tr>\n",
       "  </tbody>\n",
       "</table>\n",
       "</div>"
      ],
      "text/plain": [
       "   centrality     user\n",
       "0    0.500000    Alice\n",
       "1    0.500000     Doug\n",
       "2    0.357143  Bridget\n",
       "3    0.357143  Michael\n",
       "4    0.312500  Charles\n",
       "5    0.312500     Mark\n",
       "6    0.125000    David\n",
       "7    0.083333      Amy\n",
       "8    0.083333    James"
      ]
     },
     "metadata": {},
     "output_type": "display_data"
    }
   ],
   "source": [
    "query = \"\"\"\n",
    "CALL algo.closeness.stream(\"User\", \"FOLLOWS\", {improved: true})\n",
    "YIELD nodeId, centrality\n",
    "RETURN algo.getNodeById(nodeId).id AS user, centrality\n",
    "ORDER BY centrality DESC\n",
    "\"\"\"\n",
    "\n",
    "with driver.session() as session:\n",
    "    rows = session.run(query)\n",
    "    df = pd.DataFrame([dict(record) for record in rows])\n",
    "\n",
    "display(df)"
   ]
  },
  {
   "cell_type": "markdown",
   "metadata": {},
   "source": [
    "The results are now more representative of the closeness of nodes to the entire graph."
   ]
  },
  {
   "cell_type": "code",
   "execution_count": null,
   "metadata": {},
   "outputs": [],
   "source": [
    "query = \"\"\"\n",
    "MATCH (source:Place {id: $source}),\n",
    "      (destination:Place {id: $destination})\n",
    "CALL algo.shortestPath.stream(source, destination, null)\n",
    "YIELD nodeId, cost\n",
    "\n",
    "WITH collect(algo.getNodeById(nodeId)) AS path\n",
    "UNWIND range(0, size(path)-1) AS index\n",
    "WITH path[index] AS current, path[index+1] AS next\n",
    "WITH current, next, [(current)-[r:EROAD]-(next) | r.distance][0] AS distance\n",
    "\n",
    "WITH collect({current: current, next:next, distance: distance}) AS stops\n",
    "UNWIND range(0, size(stops)-1) AS index\n",
    "WITH stops[index] AS location, stops, index\n",
    "RETURN location.current.id AS place,\n",
    "reduce(acc=0.0,\n",
    "       distance in [stop in stops[0..index] | stop.distance] |\n",
    "       acc + distance) AS cost\n",
    "\"\"\"\n",
    "\n",
    "params = {\n",
    "    \"source\": \"Amsterdam\",\n",
    "    \"destination\": \"London\"\n",
    "}\n",
    "\n",
    "with driver.session() as session:\n",
    "    rows = session.run(query, params)\n",
    "    df = pd.DataFrame([dict(record) for record in rows])\n",
    "\n",
    "display(df)"
   ]
  },
  {
   "cell_type": "markdown",
   "metadata": {},
   "source": [
    "## Weighted Shortest Path"
   ]
  },
  {
   "cell_type": "code",
   "execution_count": null,
   "metadata": {},
   "outputs": [],
   "source": [
    "query = \"\"\"\n",
    "MATCH (source:Place {id: $source}),\n",
    "      (destination:Place {id: $destination})\n",
    "CALL algo.shortestPath.stream(source, destination, \"distance\")\n",
    "YIELD nodeId, cost\n",
    "RETURN algo.getNodeById(nodeId).id AS place, cost\n",
    "\"\"\"\n",
    "\n",
    "params = {\n",
    "    \"source\": \"Amsterdam\",\n",
    "    \"destination\": \"London\"\n",
    "}\n",
    "\n",
    "with driver.session() as session:\n",
    "    rows = session.run(query, params)\n",
    "    df = pd.DataFrame([dict(record) for record in rows])\n",
    "\n",
    "display(df)"
   ]
  },
  {
   "cell_type": "code",
   "execution_count": null,
   "metadata": {},
   "outputs": [],
   "source": []
  },
  {
   "cell_type": "markdown",
   "metadata": {},
   "source": [
    "## All Pairs Shortest Path"
   ]
  },
  {
   "cell_type": "code",
   "execution_count": null,
   "metadata": {},
   "outputs": [],
   "source": [
    "result = g.shortestPaths([\"Colchester\", \"Immingham\", \"Hoek van Holland\"])\n",
    "result.sort([\"id\"]).select(\"id\", \"distances\").show(truncate=False)"
   ]
  },
  {
   "cell_type": "code",
   "execution_count": null,
   "metadata": {},
   "outputs": [],
   "source": [
    "query = \"\"\"\n",
    "CALL algo.allShortestPaths.stream(null)\n",
    "YIELD sourceNodeId, targetNodeId, distance\n",
    "WHERE sourceNodeId < targetNodeId\n",
    "RETURN algo.getNodeById(sourceNodeId).id AS source,\n",
    "algo.getNodeById(targetNodeId).id AS target,\n",
    "distance\n",
    "ORDER BY distance DESC\n",
    "LIMIT 10\n",
    "\"\"\"\n",
    "\n",
    "with driver.session() as session:\n",
    "    rows = session.run(query)\n",
    "    df = pd.DataFrame([dict(record) for record in rows])\n",
    "\n",
    "display(df)"
   ]
  },
  {
   "cell_type": "code",
   "execution_count": null,
   "metadata": {},
   "outputs": [],
   "source": [
    "query = \"\"\"\n",
    "CALL algo.allShortestPaths.stream(\"distance\")\n",
    "YIELD sourceNodeId, targetNodeId, distance\n",
    "WHERE sourceNodeId < targetNodeId\n",
    "RETURN algo.getNodeById(sourceNodeId).id AS source,\n",
    "algo.getNodeById(targetNodeId).id AS target,\n",
    "distance\n",
    "ORDER BY distance DESC\n",
    "LIMIT 10\n",
    "\"\"\"\n",
    "\n",
    "with driver.session() as session:\n",
    "    rows = session.run(query)\n",
    "    df = pd.DataFrame([dict(record) for record in rows])\n",
    "\n",
    "display(df)"
   ]
  },
  {
   "cell_type": "markdown",
   "metadata": {},
   "source": [
    "## Single Source Shortest Path"
   ]
  },
  {
   "cell_type": "code",
   "execution_count": null,
   "metadata": {},
   "outputs": [],
   "source": [
    "query = \"\"\"\n",
    "MATCH (n:Place {id:$place})\n",
    "CALL algo.shortestPath.deltaStepping.stream(n, \"distance\", 1.0)\n",
    "YIELD nodeId, distance\n",
    "WHERE algo.isFinite(distance)\n",
    "RETURN algo.getNodeById(nodeId).id AS destination, distance\n",
    "ORDER BY distance\n",
    "\"\"\"\n",
    "\n",
    "params = {\n",
    "    \"place\": \"London\"\n",
    "}\n",
    "\n",
    "with driver.session() as session:\n",
    "    rows = session.run(query, params)\n",
    "    df = pd.DataFrame([dict(record) for record in rows])\n",
    "\n",
    "display(df)"
   ]
  },
  {
   "cell_type": "markdown",
   "metadata": {},
   "source": [
    "## Minimum Spanning Tree"
   ]
  },
  {
   "cell_type": "code",
   "execution_count": null,
   "metadata": {},
   "outputs": [],
   "source": [
    "query = \"\"\"\n",
    "MATCH (n:Place {id:$place})\n",
    "CALL algo.spanningTree.minimum(\"Place\", \"EROAD\", \"distance\", id(n),\n",
    "{write:true, writeProperty:\"MINST\"})\n",
    "YIELD loadMillis, computeMillis, writeMillis, effectiveNodeCount\n",
    "RETURN loadMillis, computeMillis, writeMillis, effectiveNodeCount\n",
    "\"\"\"\n",
    "\n",
    "params = {\n",
    "    \"place\": \"Amsterdam\"\n",
    "}\n",
    "\n",
    "with driver.session() as session:\n",
    "    rows = session.run(query, params)\n",
    "    df = pd.DataFrame([dict(record) for record in rows])\n",
    "\n",
    "display(df)"
   ]
  },
  {
   "cell_type": "code",
   "execution_count": null,
   "metadata": {},
   "outputs": [],
   "source": [
    "query = \"\"\"\n",
    "MATCH path = (n:Place {id:$place})-[:MINST*]->(end)\n",
    "WHERE not((end)-[:MINST]->())\n",
    "WITH relationships(path) AS rels\n",
    "UNWIND rels AS rel\n",
    "RETURN startNode(rel).id AS source, endNode(rel).id AS destination, rel.distance AS cost\n",
    "\"\"\"\n",
    "\n",
    "params = {\n",
    "    \"place\": \"Amsterdam\"\n",
    "}\n",
    "\n",
    "with driver.session() as session:\n",
    "    rows = session.run(query, params)\n",
    "    df = pd.DataFrame([dict(record) for record in rows])\n",
    "\n",
    "display(df)"
   ]
  },
  {
   "cell_type": "code",
   "execution_count": null,
   "metadata": {},
   "outputs": [],
   "source": []
  }
 ],
 "metadata": {
  "kernelspec": {
   "display_name": "Python 3",
   "language": "python",
   "name": "python3"
  },
  "language_info": {
   "codemirror_mode": {
    "name": "ipython",
    "version": 3
   },
   "file_extension": ".py",
   "mimetype": "text/x-python",
   "name": "python",
   "nbconvert_exporter": "python",
   "pygments_lexer": "ipython3",
   "version": "3.6.7"
  }
 },
 "nbformat": 4,
 "nbformat_minor": 2
}
