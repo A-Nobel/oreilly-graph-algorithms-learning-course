{
 "cells": [
  {
   "cell_type": "markdown",
   "metadata": {},
   "source": [
    "# Module 4: Community Detection Algorithms\n",
    "\n",
    "Community formation is common in all types of networks, and identifying them is essential for evaluating group behavior and emergent phenomena. The general principle in finding communities is that its members will have more relationships within the group than with nodes outside their group. Identifying these related sets reveals clusters of nodes, isolated groups, and network structure.\n",
    "\n",
    "In this notebook we'll learn how to use these algorithms in Spark and Neo4j. Before we get started let's import those libraries:"
   ]
  },
  {
   "cell_type": "code",
   "execution_count": null,
   "metadata": {},
   "outputs": [],
   "source": [
    "from pyspark.sql.types import *\n",
    "from graphframes import *\n",
    "from neo4j import GraphDatabase\n",
    "from pyspark.sql import functions as F\n",
    "from pyspark.context import SparkContext\n",
    "from pyspark.sql.session import SparkSession\n",
    "\n",
    "import pandas as pd"
   ]
  },
  {
   "cell_type": "markdown",
   "metadata": {},
   "source": [
    "## Connect to Spark and Neo4j\n",
    "\n",
    "Let's create connections to Spark and Neo4j. The following code will create a SparkContext that we'll use to connect to Spark:"
   ]
  },
  {
   "cell_type": "code",
   "execution_count": null,
   "metadata": {},
   "outputs": [],
   "source": [
    "from pyspark.context import SparkContext\n",
    "from pyspark.sql.session import SparkSession\n",
    "\n",
    "sc = SparkContext.getOrCreate()\n",
    "spark = SparkSession(sc)"
   ]
  },
  {
   "cell_type": "markdown",
   "metadata": {},
   "source": [
    "And let's create a connection to the database. "
   ]
  },
  {
   "cell_type": "code",
   "execution_count": null,
   "metadata": {},
   "outputs": [],
   "source": [
    "user = \"neo4j\"\n",
    "password = \"neo\"\n",
    "driver = GraphDatabase.driver(\"bolt://data-science-training-neo4j\", auth=(user, password))"
   ]
  },
  {
   "cell_type": "markdown",
   "metadata": {},
   "source": [
    "## The Software Dependency Graph\n",
    "\n",
    "Dependency graphs are particularly well suited for demonstrating the sometimes subtle differences between community detection algorithms because they tend to be more connected and hierarchical.\n",
    "\n",
    "\n",
    "### Importing the Data into Apache Spark"
   ]
  },
  {
   "cell_type": "code",
   "execution_count": null,
   "metadata": {},
   "outputs": [],
   "source": [
    "def create_software_graph():\n",
    "    nodes = spark.read.csv(\"data/sw-nodes.csv\", header=True)\n",
    "    relationships = spark.read.csv(\"data/sw-relationships.csv\", header=True)\n",
    "    return GraphFrame(nodes, relationships)"
   ]
  },
  {
   "cell_type": "code",
   "execution_count": null,
   "metadata": {},
   "outputs": [],
   "source": [
    "g = create_software_graph()"
   ]
  },
  {
   "cell_type": "markdown",
   "metadata": {},
   "source": [
    "### Importing the Data into Neo4j"
   ]
  },
  {
   "cell_type": "code",
   "execution_count": null,
   "metadata": {},
   "outputs": [],
   "source": [
    "user = \"neo4j\"\n",
    "password = \"neo\"\n",
    "driver = GraphDatabase.driver(\"bolt://localhost\", auth=(user, password))"
   ]
  },
  {
   "cell_type": "code",
   "execution_count": null,
   "metadata": {},
   "outputs": [],
   "source": [
    "with driver.session() as session:\n",
    "    result = session.run(\"\"\"\n",
    "    LOAD CSV WITH HEADERS FROM \"file:///sw-nodes.csv\" AS row\n",
    "    MERGE (:Library {id: row.id})\n",
    "    \"\"\")\n",
    "    display(result.summary().counters)\n",
    "    \n",
    "    result = session.run(\"\"\"\n",
    "    LOAD CSV WITH HEADERS FROM \"file:///sw-relationships.csv\" AS row\n",
    "    MATCH (source:Library {id: row.src})\n",
    "    MATCH (destination:Library {id: row.dst})\n",
    "    MERGE (source)-[:DEPENDS_ON]->(destination)\n",
    "    \"\"\")\n",
    "    display(result.summary().counters)"
   ]
  },
  {
   "cell_type": "markdown",
   "metadata": {},
   "source": [
    "## Triangle Count\n",
    "\n",
    "Triangle Count determines the number of triangles passing through each node in the graph. A triangle is a set of three nodes,where each node has a relationship to all other nodes."
   ]
  },
  {
   "cell_type": "code",
   "execution_count": null,
   "metadata": {},
   "outputs": [],
   "source": [
    "result = g.triangleCount()\n",
    "(result.sort(\"count\", ascending=False)\n",
    ".filter('count > 0')\n",
    ".show())"
   ]
  },
  {
   "cell_type": "markdown",
   "metadata": {},
   "source": [
    "A triangle in this graph would indicate that two of a node’s neighbors are also neighbors. Six of our libraries participate in such triangles.\n",
    "\n",
    "What if we want to know which nodes are in those triangles? That’s where a triangle stream comes in. "
   ]
  },
  {
   "cell_type": "code",
   "execution_count": null,
   "metadata": {},
   "outputs": [],
   "source": [
    "query = \"\"\"\n",
    "CALL algo.triangle.stream(\"Library\",\"DEPENDS_ON\")\n",
    "YIELD nodeA, nodeB, nodeC\n",
    "RETURN algo.getNodeById(nodeA).id AS nodeA,\n",
    "       algo.getNodeById(nodeB).id AS nodeB,\n",
    "       algo.getNodeById(nodeC).id AS nodeC\n",
    "\"\"\"\n",
    "\n",
    "with driver.session() as session:\n",
    "    rows = session.run(query)\n",
    "    df = pd.DataFrame([dict(record) for record in rows])\n",
    "\n",
    "display(df)"
   ]
  },
  {
   "cell_type": "markdown",
   "metadata": {},
   "source": [
    "We can see these triangles in the diagram below:\n",
    "\n",
    "![](images/triangles.svg)"
   ]
  },
  {
   "cell_type": "markdown",
   "metadata": {},
   "source": [
    "The Clustering Coefficient algorithm measures how tightly a group is clustered compared to how tightly it could be clustered. The algorithm uses Triangle Count in its calculations, which provides a ratio of existing triangles to possible relationships."
   ]
  },
  {
   "cell_type": "code",
   "execution_count": null,
   "metadata": {},
   "outputs": [],
   "source": [
    "query = \"\"\"\n",
    "CALL algo.triangleCount.stream('Library', 'DEPENDS_ON')\n",
    "YIELD nodeId, triangles, coefficient\n",
    "WHERE coefficient > 0\n",
    "RETURN algo.getNodeById(nodeId).id AS library, coefficient\n",
    "ORDER BY coefficient DESC\n",
    "\"\"\"\n",
    "\n",
    "with driver.session() as session:\n",
    "    rows = session.run(query)\n",
    "    df = pd.DataFrame([dict(record) for record in rows])\n",
    "\n",
    "display(df)"
   ]
  },
  {
   "cell_type": "markdown",
   "metadata": {},
   "source": [
    "ipykernel has a score of 1, which means that all ipykernel’s neighbors are neighbors of each other."
   ]
  },
  {
   "cell_type": "markdown",
   "metadata": {},
   "source": [
    "## Strongly Connected Components\n",
    "\n",
    "The Strongly Connected Components (SCC) algorithm is one of the earliest graph algorithms. SCC finds sets of connected nodes in a directed graph where each node is reachable in both directions from any other node in the same set."
   ]
  },
  {
   "cell_type": "code",
   "execution_count": null,
   "metadata": {},
   "outputs": [],
   "source": [
    "result = g.stronglyConnectedComponents(maxIter=10)\n",
    "(result.sort(\"component\")\n",
    " .groupby(\"component\")\n",
    " .agg(F.collect_list(\"id\").alias(\"libraries\"))\n",
    " .show(truncate=False))"
   ]
  },
  {
   "cell_type": "code",
   "execution_count": null,
   "metadata": {},
   "outputs": [],
   "source": [
    "query = \"\"\"\n",
    "CALL algo.scc.stream(\"Library\", \"DEPENDS_ON\")\n",
    "YIELD nodeId, partition\n",
    "RETURN partition, collect(algo.getNodeById(nodeId).id) AS libraries\n",
    "ORDER BY size(libraries) DESC\n",
    "\"\"\"\n",
    "\n",
    "\n",
    "with driver.session() as session:\n",
    "    rows = session.run(query)\n",
    "    df = pd.DataFrame([dict(record) for record in rows])\n",
    "\n",
    "display(df)"
   ]
  },
  {
   "cell_type": "markdown",
   "metadata": {},
   "source": [
    "## Connected Components\n",
    "\n",
    "The Connected Components algorithm (sometimes called Union Find or Weakly Connected Components) finds sets of connected nodes in an undirected graph where each node is reachable from any other node in the same set."
   ]
  },
  {
   "cell_type": "code",
   "execution_count": null,
   "metadata": {},
   "outputs": [],
   "source": [
    "# sc.setCheckpointDir(\"/tmp\")\n",
    "result = g.connectedComponents()\n",
    "(result.sort(\"component\")\n",
    " .groupby(\"component\")\n",
    " .agg(F.collect_list(\"id\").alias(\"libraries\"))\n",
    " .show(truncate=False))"
   ]
  },
  {
   "cell_type": "code",
   "execution_count": null,
   "metadata": {},
   "outputs": [],
   "source": [
    "query = \"\"\"\n",
    "CALL algo.unionFind.stream(\"Library\", \"DEPENDS_ON\")\n",
    "YIELD nodeId,setId\n",
    "RETURN setId, collect(algo.getNodeById(nodeId).id) AS libraries\n",
    "ORDER BY size(libraries) DESC\n",
    "\"\"\"\n",
    "\n",
    "with driver.session() as session:\n",
    "    rows = session.run(query)\n",
    "    df = pd.DataFrame([dict(record) for record in rows])\n",
    "\n",
    "display(df)"
   ]
  },
  {
   "cell_type": "markdown",
   "metadata": {},
   "source": [
    "## Label Propagation\n",
    "\n",
    "The Label Propagation algorithm (LPA) is a fast algorithm for finding communities in a graph. In LPA, nodes select their group based on their direct neighbors. This process is well suited to networks where groupings are less clear and weights can be used to help a node determine which community to place itself within."
   ]
  },
  {
   "cell_type": "code",
   "execution_count": null,
   "metadata": {},
   "outputs": [],
   "source": [
    "result = g.labelPropagation(maxIter=10)\n",
    "(result\n",
    " .sort(\"label\")\n",
    " .groupby(\"label\")\n",
    " .agg(F.collect_list(\"id\"))\n",
    " .show(truncate=False))"
   ]
  },
  {
   "cell_type": "markdown",
   "metadata": {},
   "source": [
    "Compared to Connected Components, we have more clusters of libraries in this example. LPA is less strict than Connected Components with respect to how it determines clusters. Two neighbors (directly connected nodes) may be found to be in different clusters using Label Propagation."
   ]
  },
  {
   "cell_type": "code",
   "execution_count": null,
   "metadata": {},
   "outputs": [],
   "source": []
  },
  {
   "cell_type": "code",
   "execution_count": null,
   "metadata": {},
   "outputs": [],
   "source": []
  },
  {
   "cell_type": "code",
   "execution_count": null,
   "metadata": {},
   "outputs": [],
   "source": [
    "query = \"\"\"\n",
    "CALL algo.labelPropagation.stream(\"Library\", \"DEPENDS_ON\", { \n",
    " iterations: 10 \n",
    "})\n",
    "YIELD nodeId, label\n",
    "RETURN label, \n",
    "       collect(algo.getNodeById(nodeId).id) AS libraries\n",
    "ORDER BY size(libraries) DESC\n",
    "\"\"\"\n",
    "\n",
    "with driver.session() as session:\n",
    "    rows = session.run(query)\n",
    "    df = pd.DataFrame([dict(record) for record in rows])\n",
    "\n",
    "display(df)"
   ]
  },
  {
   "cell_type": "markdown",
   "metadata": {},
   "source": [
    "## Louvain Modularity\n",
    "\n",
    "The Louvain Modularity algorithm finds clusters by comparing community density as it assigns nodes to different groups. You can think of this as a “what if ” analysis to try various groupings with the goal of reaching a global optimum."
   ]
  },
  {
   "cell_type": "code",
   "execution_count": null,
   "metadata": {},
   "outputs": [],
   "source": [
    "query = \"\"\"\n",
    "CALL algo.louvain.stream(\"Library\", \"DEPENDS_ON\", {\n",
    "  includeIntermediateCommunities: true\n",
    "})\n",
    "YIELD nodeId, communities, community\n",
    "RETURN algo.getNodeById(nodeId).id AS libraries, community, communities\n",
    "\"\"\"\n",
    "\n",
    "with driver.session() as session:\n",
    "    rows = session.run(query)\n",
    "    df = pd.DataFrame([dict(record) for record in rows])\n",
    "\n",
    "display(df)"
   ]
  },
  {
   "cell_type": "code",
   "execution_count": null,
   "metadata": {},
   "outputs": [],
   "source": [
    "query = \"\"\"\n",
    "CALL algo.louvain(\"Library\", \"DEPENDS_ON\", {\n",
    "  writeProperty: 'community',\n",
    "  includeIntermediateCommunities: true,\n",
    "  intermediateCommunitiesWriteProperty: 'communities'\n",
    "})\n",
    "\"\"\"\n",
    "\n",
    "with driver.session() as session:\n",
    "    result = session.run(query)\n",
    "    display(result.summary().counters)"
   ]
  },
  {
   "cell_type": "code",
   "execution_count": null,
   "metadata": {},
   "outputs": [],
   "source": [
    "query = \"\"\"\n",
    "MATCH (l:Library)\n",
    "RETURN l.communities[-1] AS community, collect(l.id) AS libraries\n",
    "ORDER BY size(libraries) DESC\n",
    "\"\"\"\n",
    "\n",
    "with driver.session() as session:\n",
    "    rows = session.run(query)\n",
    "    df = pd.DataFrame([dict(record) for record in rows])\n",
    "\n",
    "display(df)"
   ]
  },
  {
   "cell_type": "code",
   "execution_count": null,
   "metadata": {},
   "outputs": [],
   "source": []
  }
 ],
 "metadata": {
  "kernelspec": {
   "display_name": "Python 3",
   "language": "python",
   "name": "python3"
  },
  "language_info": {
   "codemirror_mode": {
    "name": "ipython",
    "version": 3
   },
   "file_extension": ".py",
   "mimetype": "text/x-python",
   "name": "python",
   "nbconvert_exporter": "python",
   "pygments_lexer": "ipython3",
   "version": "3.7.3"
  }
 },
 "nbformat": 4,
 "nbformat_minor": 2
}
